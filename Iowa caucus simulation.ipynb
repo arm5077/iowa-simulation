{
 "cells": [
  {
   "cell_type": "markdown",
   "metadata": {},
   "source": [
    "# Introduction\n",
    "\n",
    "I want to see if a multidimensional linear regression model could be helpful in determining the ranked preferences of Iowa voters particpating in the Democratic caucuses.\n",
    "\n",
    "Since we don't have historic data, I'm first going to generate fake data from a number of voter archetypes with set expectations. Then, we'll run a regression model to see if those expectations are reflected in the data."
   ]
  },
  {
   "cell_type": "markdown",
   "metadata": {},
   "source": [
    "# The precincts\n",
    "Iowa has 99 counties. But the real jurisdictions that matter are the caucus sites. This is where voting happens.\n",
    "\n",
    "Let's first come up with initial random vote distributions for all of Iowa's 1,689 voting precincts. For the sake of argument, let's say they're all the same size (1,000 voters) and have the same voting power, though in real life precincts range in size from around 100 people to more than 5,000.\n",
    "\n",
    "We'll make these random distributions using a [Dirichlet distribution.](https://en.wikipedia.org/wiki/Dirichlet_distribution). I'll admit I don't really get the math, but using Numpy, you can give a list of expected frequencies and `numpy.random.dirichlet` will generate `n` sets of frequencies that will vary individually but average out to the supplied means.\n",
    "\n",
    "So we'll use the function to generate 1,689 sets of voting percentages for Biden, Buttigieg, Klobuchar, Sanders, Warren and Yang, with their current statewide polling as a base."
   ]
  },
  {
   "cell_type": "code",
   "execution_count": 1,
   "metadata": {},
   "outputs": [],
   "source": [
    "import numpy\n",
    "\n",
    "statewideStats = {\n",
    "    \"Biden\": 0.23,\n",
    "    \"Buttigieg\": 0.24,\n",
    "    \"Klobuchar\": .09,\n",
    "    \"Sanders\": .23,\n",
    "    \"Warren\": .16,\n",
    "    \"Yang\": .05   \n",
    "}\n",
    "\n",
    "rawData = numpy.random.dirichlet((list(map(lambda c: c * 100, statewideStats.values()))), 1689)\n",
    "precincts = []\n",
    "for row in rawData:\n",
    "    precinct = {\n",
    "        \"voters\": [],\n",
    "        \"firstRoundRaw\": {},\n",
    "        \"firstRoundPercentage\": {}\n",
    "    }\n",
    "    for index, candidate in enumerate(statewideStats.keys()):\n",
    "        voterCount = int(round(row[index] * 1000))\n",
    "        precinct[\"firstRoundRaw\"][candidate] = voterCount\n",
    "        precinct[\"firstRoundPercentage\"][candidate] = row[index]\n",
    "        precinct[\"voters\"] += [candidate] * voterCount\n",
    "    precincts.append(precinct)"
   ]
  },
  {
   "cell_type": "markdown",
   "metadata": {},
   "source": [
    "# Voter behavior\n",
    "\n",
    "OK! With our dataset in hand, it's now time to enter _simulation mode._\n",
    "\n",
    "At each caucus site, there are two rounds of voting. After the first, caucusers are allowed to change their mind after seeing how everyone else has voted. At the end of the second round, any candidate with less than 15 percent of a caucus site's vote gets eliminated, and their votes are discarded. \n",
    "\n",
    "So it's in a caucuser's best interest to switch sides if their candidate doesn't hit 15 percent in the first round. That is, unless they _really_ believe in them. \n",
    "\n",
    "First, let's build out our archetypes. We'll assume there are five candidates:\n",
    "\n",
    "* Joe Biden\n",
    "* Elizabeth Warren\n",
    "* Pete Buttigieg\n",
    "* Bernie Sanders\n",
    "* Any Klobuchar\n",
    "* Andrew Yang\n",
    "\n",
    "Each candidates supporters have different preferences for other candiates, if their candidate loses viability in the caucus:\n",
    "\n",
    "* Biden\n",
    "    * 50% will stay no matter what\n",
    "    * 25% will go to Buttigieg\n",
    "    * 10% will go to Klobuchar\n",
    "    * 10% will go to Warren\n",
    "    * 5% will go to the rest\n",
    "    \n",
    "* Warren\n",
    "    * 60% will stay no matter what\n",
    "    * 30% will go to Sanders\n",
    "    * 10% will go to the rest\n",
    "    \n",
    "* Buttigieg\n",
    "    * 30% will stay no matter what\n",
    "    * 50% will go to Biden\n",
    "    * 20% will go to the rest\n",
    "    \n",
    "* Sanders\n",
    "    * 80% will stay no matter what\n",
    "    * 15% will go to Warren\n",
    "    * 5% will go to the rest\n",
    "    \n",
    "* Klobuchar\n",
    "    * 10% will stay no matter what\n",
    "    * 90% will go to the rest\n",
    "    \n",
    "* Andrew Yang\n",
    "    * 90% will stay no matter what\n",
    "    * 10% will go to the rest\n"
   ]
  },
  {
   "cell_type": "code",
   "execution_count": 2,
   "metadata": {},
   "outputs": [],
   "source": [
    "candidates = {'Biden': {'Biden': 0.5, 'Buttigieg': 0.25, 'Klobuchar': 0.1, 'Sanders': 0.025, 'Warren': 0.1, 'Yang': 0.025}, 'Warren': {'Biden': 0.025, 'Buttigieg': 0.025, 'Klobuchar': 0.025, 'Sanders': 0.3, 'Warren': 0.6, 'Yang': 0.025}, 'Buttigieg': {'Biden': 0.5, 'Buttigieg': 0.3, 'Klobuchar': 0.05, 'Sanders': 0.05, 'Warren': 0.05, 'Yang': 0.05}, 'Sanders': {'Biden': 0.0125, 'Buttigieg': 0.0125, 'Klobuchar': 0.0125, 'Sanders': 0.8, 'Warren': 0.15, 'Yang': 0.0125}, 'Klobuchar': {'Biden': 0.18, 'Buttigieg': 0.18, 'Klobuchar': 0.1, 'Sanders': 0.18, 'Warren': 0.18, 'Yang': 0.18}, 'Yang': {'Biden': 0.02, 'Buttigieg': 0.02, 'Klobuchar': 0.02, 'Sanders': 0.02, 'Warren': 0.02, 'Yang': 0.9}}"
   ]
  },
  {
   "cell_type": "markdown",
   "metadata": {},
   "source": [
    "Let's now run the simulation. Here's how it'll work:\n",
    "\n",
    "* We'll assume the existing stats represent the first round of voting. \n",
    "* We'll run voter by voter in each precinct. \n",
    " * If their candidate is above 15 percent, they'll stand pat.\n",
    " * If their candidate is below 15 percent, they may or may not switch sides, depending on the probabilities of their voter type.\n",
    " \n",
    "After we determine the results of the second round of voting, we'll calculate the delta in percentage points, per candidate, between the first and second rounds."
   ]
  },
  {
   "cell_type": "code",
   "execution_count": 3,
   "metadata": {
    "scrolled": true
   },
   "outputs": [],
   "source": [
    "for precinct in precincts:\n",
    "    precinct[\"secondRoundRaw\"] = {\n",
    "        \"Biden\": 0,\n",
    "        \"Buttigieg\": 0,\n",
    "        \"Klobuchar\": 0,\n",
    "        \"Sanders\": 0,\n",
    "        \"Warren\": 0,\n",
    "        \"Yang\": 0\n",
    "    }\n",
    "    \n",
    "    for voter in precinct[\"voters\"]:\n",
    "        if precinct[\"firstRoundPercentage\"][voter] >= .15:\n",
    "            precinct[\"secondRoundRaw\"][voter] += 1\n",
    "        else:\n",
    "            archetype = candidates[voter]\n",
    "            choice = numpy.random.choice(list(archetype.keys()), p=list(archetype.values()))\n",
    "            precinct[\"secondRoundRaw\"][choice] += 1\n",
    "    \n",
    "    precinct[\"secondRoundPercentage\"] = {}\n",
    "    precinct[\"delta\"] = {}\n",
    "    for candidate in precinct[\"secondRoundRaw\"].keys():\n",
    "        precinct[\"secondRoundPercentage\"][candidate] = precinct[\"secondRoundRaw\"][candidate] / len(precinct[\"voters\"])\n",
    "        precinct[\"delta\"][candidate] = (precinct[\"secondRoundPercentage\"][candidate] - precinct[\"firstRoundPercentage\"][candidate]) * 100"
   ]
  },
  {
   "cell_type": "markdown",
   "metadata": {},
   "source": [
    "Now that we've calculated the percentage of votes cast for the second round of caucusing, let's calculate the delta for each, and convert the dataset to a dataframe.\n",
    "\n"
   ]
  },
  {
   "cell_type": "code",
   "execution_count": 4,
   "metadata": {},
   "outputs": [],
   "source": [
    "from pandas import DataFrame\n",
    "delta_data = map(lambda p: p[\"delta\"],precincts)\n",
    "data = DataFrame(delta_data)\n",
    "\n"
   ]
  },
  {
   "cell_type": "markdown",
   "metadata": {},
   "source": [
    "# The regression\n",
    "\n",
    "Now that we have our deltas in a single data frame, let's single out a candidate and make a linear regression model from them.\n",
    "\n",
    "Biden's a good place to start. Here's a chart showing how other candidate's deltas map against his own:"
   ]
  },
  {
   "cell_type": "code",
   "execution_count": 6,
   "metadata": {},
   "outputs": [
    {
     "data": {
      "image/png": "[encoded data removed]",
      "text/plain": [
       "<Figure size 432x288 with 1 Axes>"
      ]
     },
     "metadata": {
      "needs_background": "light"
     },
     "output_type": "display_data"
    }
   ],
   "source": [
    "import matplotlib.pyplot as plt \n",
    "\n",
    "X = data[['Buttigieg', 'Klobuchar', 'Sanders', 'Warren', 'Yang']]\n",
    "Y = data['Biden']\n",
    "\n",
    "data.plot(x='Biden', style='o')\n",
    "plt.show()\n",
    "\n"
   ]
  },
  {
   "cell_type": "markdown",
   "metadata": {},
   "source": [
    "And here's the regression itself."
   ]
  },
  {
   "cell_type": "code",
   "execution_count": 7,
   "metadata": {},
   "outputs": [
    {
     "name": "stdout",
     "output_type": "stream",
     "text": [
      "                            OLS Regression Results                            \n",
      "==============================================================================\n",
      "Dep. Variable:                  Biden   R-squared:                       1.000\n",
      "Model:                            OLS   Adj. R-squared:                  1.000\n",
      "Method:                 Least Squares   F-statistic:                 6.028e+30\n",
      "Date:                Fri, 27 Dec 2019   Prob (F-statistic):               0.00\n",
      "Time:                        10:44:53   Log-Likelihood:                 51955.\n",
      "No. Observations:                1689   AIC:                        -1.039e+05\n",
      "Df Residuals:                    1683   BIC:                        -1.039e+05\n",
      "Df Model:                           5                                         \n",
      "Covariance Type:            nonrobust                                         \n",
      "==============================================================================\n",
      "                 coef    std err          t      P>|t|      [0.025      0.975]\n",
      "------------------------------------------------------------------------------\n",
      "const      -3.061e-15    8.1e-16     -3.781      0.000   -4.65e-15   -1.47e-15\n",
      "Buttigieg     -1.0000   2.14e-16  -4.67e+15      0.000      -1.000      -1.000\n",
      "Klobuchar     -1.0000   2.54e-16  -3.94e+15      0.000      -1.000      -1.000\n",
      "Sanders       -1.0000   4.64e-16  -2.15e+15      0.000      -1.000      -1.000\n",
      "Warren        -1.0000   3.75e-16  -2.67e+15      0.000      -1.000      -1.000\n",
      "Yang          -1.0000   5.69e-16  -1.76e+15      0.000      -1.000      -1.000\n",
      "==============================================================================\n",
      "Omnibus:                        1.664   Durbin-Watson:                   2.056\n",
      "Prob(Omnibus):                  0.435   Jarque-Bera (JB):                1.611\n",
      "Skew:                          -0.012   Prob(JB):                        0.447\n",
      "Kurtosis:                       2.851   Cond. No.                         28.2\n",
      "==============================================================================\n",
      "\n",
      "Warnings:\n",
      "[1] Standard Errors assume that the covariance matrix of the errors is correctly specified.\n"
     ]
    },
    {
     "name": "stderr",
     "output_type": "stream",
     "text": [
      "/usr/local/lib/python3.7/site-packages/numpy/core/fromnumeric.py:2542: FutureWarning: Method .ptp is deprecated and will be removed in a future version. Use numpy.ptp instead.\n",
      "  return ptp(axis=axis, out=out, **kwargs)\n"
     ]
    }
   ],
   "source": [
    "import statsmodels.api as sm\n",
    "X = sm.add_constant(X) # adding a constant\n",
    "model = sm.OLS(Y, X).fit()\n",
    "print_model = model.summary()\n",
    "print(print_model)"
   ]
  }
 ],
 "metadata": {
  "kernelspec": {
   "display_name": "Python 3",
   "language": "python",
   "name": "python3"
  },
  "language_info": {
   "codemirror_mode": {
    "name": "ipython",
    "version": 3
   },
   "file_extension": ".py",
   "mimetype": "text/x-python",
   "name": "python",
   "nbconvert_exporter": "python",
   "pygments_lexer": "ipython3",
   "version": "3.7.5"
  }
 },
 "nbformat": 4,
 "nbformat_minor": 2
}
